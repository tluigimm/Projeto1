{
 "cells": [
  {
   "cell_type": "code",
   "execution_count": 1,
   "metadata": {},
   "outputs": [],
   "source": [
    "%matplotlib inline\n",
    "import pandas as pd\n",
    "import numpy as np\n",
    "import math as math\n",
    "from scipy import stats\n",
    "import matplotlib.pyplot as plt\n",
    "import seaborn as sns"
   ]
  },
  {
   "cell_type": "code",
   "execution_count": 2,
   "metadata": {},
   "outputs": [],
   "source": [
    "import os\n",
    "meu_diretorio = \"/home/tluigimm/codigos/Projeto1/\"\n",
    "os.chdir(meu_diretorio)"
   ]
  },
  {
   "cell_type": "markdown",
   "metadata": {},
   "source": [
    "importar data frames"
   ]
  },
  {
   "cell_type": "code",
   "execution_count": 3,
   "metadata": {},
   "outputs": [],
   "source": [
    "df_IDH = pd.read_excel(\"Indicator_HDI.xlsx\")\n",
    "df_agr = pd.read_excel(\"Agriculture (p of GDP).xlsx\")\n",
    "df_exe = pd.read_excel(\"indicator army_percent.xlsx\")\n",
    "\n",
    "exe_08 = df_exe.loc[:\"Armed forces personnel (% of labor force)\",[2008]]\n",
    "IDH_08 = df_IDH.loc[:\"HDI\",[2008]]\n",
    "agr_08 = df_agr.loc[:\"Agriculture, value added (% of GDP)\",[2008]]"
   ]
  },
  {
   "cell_type": "markdown",
   "metadata": {},
   "source": [
    "juntadno data frames"
   ]
  },
  {
   "cell_type": "code",
   "execution_count": 6,
   "metadata": {},
   "outputs": [],
   "source": [
    "df = IDH_08.join(agr_08, how='inner', lsuffix='_IDH', rsuffix='_agricultura(%PIB)')\n",
    "\n",
    "df = exe_08.join(df, how='inner', lsuffix='_exercito(%trabalho)')\n"
   ]
  },
  {
   "cell_type": "markdown",
   "metadata": {},
   "source": [
    "limpando data frame"
   ]
  },
  {
   "cell_type": "code",
   "execution_count": 8,
   "metadata": {},
   "outputs": [],
   "source": [
    "df.dropna(inplace=True)"
   ]
  },
  {
   "cell_type": "code",
   "execution_count": null,
   "metadata": {},
   "outputs": [],
   "source": []
  }
 ],
 "metadata": {
  "kernelspec": {
   "display_name": "Python 3",
   "language": "python",
   "name": "python3"
  },
  "language_info": {
   "codemirror_mode": {
    "name": "ipython",
    "version": 3
   },
   "file_extension": ".py",
   "mimetype": "text/x-python",
   "name": "python",
   "nbconvert_exporter": "python",
   "pygments_lexer": "ipython3",
   "version": "3.6.5"
  }
 },
 "nbformat": 4,
 "nbformat_minor": 2
}
