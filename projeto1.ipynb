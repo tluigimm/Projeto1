{
 "cells": [
  {
   "cell_type": "markdown",
   "metadata": {},
   "source": [
    "# Introdução"
   ]
  },
  {
   "cell_type": "markdown",
   "metadata": {},
   "source": [
    "Graças a uma forte herança colonial, a maioria dos países que foram colonias lidam com profundos problemas em sua qualidade de vida, afetando diretamente seu IDH. Será possível identificar antigas colônias baseando-se em sua economia atual?"
   ]
  },
  {
   "cell_type": "markdown",
   "metadata": {},
   "source": [
    "### Existe correlação entre o IDH de um país e a participação da agricultura em seu PIB? E sua industria?\n",
    "\n",
    "É esperado que exista uma relação inversa em relação à agricultura, ou seja, quanto maior o IDH, menor a participação da agricultura em seu PIB. Espera-se isso pois países com menor IDH possuem forte tradição agrícola devido a longos períodos de colonização.\n",
    "\n",
    "Em relação à industria, é esperado que exista relação direta com a industria, pois, países mais desenvolvidos tendem a ter grandes empresas e, portanto, grandes industrias."
   ]
  },
  {
   "cell_type": "markdown",
   "metadata": {},
   "source": [
    "# Análises e explicação dos resultados"
   ]
  },
  {
   "cell_type": "markdown",
   "metadata": {},
   "source": [
    "### ** importando bibliotecas ** "
   ]
  },
  {
   "cell_type": "code",
   "execution_count": 7,
   "metadata": {},
   "outputs": [],
   "source": [
    "%matplotlib inline\n",
    "import pandas as pd\n",
    "import numpy as np\n",
    "import math as math\n",
    "from scipy import stats\n",
    "import matplotlib.pyplot as plt\n",
    "import seaborn as sns\n",
    "import os\n",
    "meu_diretorio = \"/home/tluigimm/codigos/Projeto1/\"\n",
    "os.chdir(meu_diretorio)"
   ]
  },
  {
   "cell_type": "markdown",
   "metadata": {},
   "source": [
    "### ** importar data frames ** "
   ]
  },
  {
   "cell_type": "markdown",
   "metadata": {},
   "source": [
    "dados foram coletados do site: https://www.gapminder.org/:"
   ]
  },
  {
   "cell_type": "code",
   "execution_count": 8,
   "metadata": {},
   "outputs": [],
   "source": [
    "# data freme com IDH's\n",
    "df_IDH = pd.read_excel(\"Indicator_HDI.xlsx\")\n",
    "\n",
    "# data frame com porcentagem relativa à agricultura no PIB\n",
    "df_agr = pd.read_excel(\"Agriculture (p of GDP).xlsx\")\n",
    "\n",
    "# data frame com porcentagem relatica à industria no PIB\n",
    "df_ind = pd.read_excel(\"Industry (p of GDP).xlsx\")\n"
   ]
  },
  {
   "cell_type": "markdown",
   "metadata": {},
   "source": [
    "### ** selecionar coluna referente ao ano de 2008 ** "
   ]
  },
  {
   "cell_type": "code",
   "execution_count": 9,
   "metadata": {},
   "outputs": [],
   "source": [
    "ind_08 = df_ind.loc[:,[\"Industry, value added (% of GDP)\",\"2008\"]]\n",
    "IDH_08 = df_IDH.loc[:,[\"HDI\",2008]]\n",
    "agr_08 = df_agr.loc[:,[\"Agriculture, value added (% of GDP)\",2008]]"
   ]
  },
  {
   "cell_type": "markdown",
   "metadata": {},
   "source": [
    "### ** setar index **"
   ]
  },
  {
   "cell_type": "code",
   "execution_count": 41,
   "metadata": {},
   "outputs": [],
   "source": [
    "ind_idx = ind_08.set_index(\"Industry, value added (% of GDP)\").add_suffix(\"_industria(%PIB)\")\n",
    "IDH_idx = IDH_08.set_index(\"HDI\").add_suffix(\"_IDH\")\n",
    "agr_idx = agr_08.set_index(\"Agriculture, value added (% of GDP)\").add_suffix(\"_agricultura(%PIB)\")"
   ]
  },
  {
   "cell_type": "markdown",
   "metadata": {},
   "source": [
    "### ** juntando data frames **"
   ]
  },
  {
   "cell_type": "code",
   "execution_count": 48,
   "metadata": {},
   "outputs": [],
   "source": [
    "df = IDH_idx.join(agr_idx, how='inner')\n",
    "\n",
    "df = ind_idx.join(df, how='inner')"
   ]
  },
  {
   "cell_type": "markdown",
   "metadata": {},
   "source": [
    "### ** limpando data frame **"
   ]
  },
  {
   "cell_type": "code",
   "execution_count": 49,
   "metadata": {},
   "outputs": [
    {
     "data": {
      "text/html": [
       "<div>\n",
       "<style scoped>\n",
       "    .dataframe tbody tr th:only-of-type {\n",
       "        vertical-align: middle;\n",
       "    }\n",
       "\n",
       "    .dataframe tbody tr th {\n",
       "        vertical-align: top;\n",
       "    }\n",
       "\n",
       "    .dataframe thead th {\n",
       "        text-align: right;\n",
       "    }\n",
       "</style>\n",
       "<table border=\"1\" class=\"dataframe\">\n",
       "  <thead>\n",
       "    <tr style=\"text-align: right;\">\n",
       "      <th></th>\n",
       "      <th>2008_industria(%PIB)</th>\n",
       "      <th>2008_IDH</th>\n",
       "      <th>2008_agricultura(%PIB)</th>\n",
       "    </tr>\n",
       "  </thead>\n",
       "  <tbody>\n",
       "    <tr>\n",
       "      <th>Afghanistan</th>\n",
       "      <td>25.978376</td>\n",
       "      <td>0.370</td>\n",
       "      <td>28.134488</td>\n",
       "    </tr>\n",
       "    <tr>\n",
       "      <th>Albania</th>\n",
       "      <td>19.086442</td>\n",
       "      <td>0.733</td>\n",
       "      <td>20.304655</td>\n",
       "    </tr>\n",
       "    <tr>\n",
       "      <th>Algeria</th>\n",
       "      <td>62.118578</td>\n",
       "      <td>0.686</td>\n",
       "      <td>6.920100</td>\n",
       "    </tr>\n",
       "    <tr>\n",
       "      <th>Angola</th>\n",
       "      <td>67.486780</td>\n",
       "      <td>0.476</td>\n",
       "      <td>6.642216</td>\n",
       "    </tr>\n",
       "    <tr>\n",
       "      <th>Argentina</th>\n",
       "      <td>32.277717</td>\n",
       "      <td>0.786</td>\n",
       "      <td>9.837196</td>\n",
       "    </tr>\n",
       "  </tbody>\n",
       "</table>\n",
       "</div>"
      ],
      "text/plain": [
       "             2008_industria(%PIB)  2008_IDH  2008_agricultura(%PIB)\n",
       "Afghanistan             25.978376     0.370               28.134488\n",
       "Albania                 19.086442     0.733               20.304655\n",
       "Algeria                 62.118578     0.686                6.920100\n",
       "Angola                  67.486780     0.476                6.642216\n",
       "Argentina               32.277717     0.786                9.837196"
      ]
     },
     "execution_count": 49,
     "metadata": {},
     "output_type": "execute_result"
    }
   ],
   "source": [
    "df.dropna(inplace=True)\n",
    "df.head()"
   ]
  },
  {
   "cell_type": "markdown",
   "metadata": {},
   "source": [
    "# Conclusão"
   ]
  },
  {
   "cell_type": "markdown",
   "metadata": {},
   "source": [
    "### ** plotando gráficos **"
   ]
  },
  {
   "cell_type": "code",
   "execution_count": 64,
   "metadata": {},
   "outputs": [],
   "source": [
    "#função para calcular reta média em gráfico de dispersão\n",
    "\n",
    "def reta(dados_x, dados_y, eixo_x, eixo_y, nome_grafico):    \n",
    "    a = dados_y.cov(dados_x) / dados_x.var()\n",
    "    b = dados_y.mean() - a*dados_x.mean()\n",
    " \n",
    "    fig = plt.figure(figsize=(8, 6))\n",
    "    plt.scatter(dados_x, dados_y, c='red', alpha=0.8)\n",
    "    plt.title(nome_grafico)\n",
    "    plt.xlabel(eixo_x)\n",
    "    plt.ylabel(eixo_y)\n",
    " \n",
    "    plt.plot((dados_x.min(), dados_x.max()), (a*dados_x.min()+b, a*dados_x.max()+b), color='blue')\n",
    " \n",
    "    plt.tight_layout()\n",
    "    plt.show()\n",
    "    "
   ]
  },
  {
   "cell_type": "code",
   "execution_count": 65,
   "metadata": {},
   "outputs": [
    {
     "data": {
      "image/png": "[encoded data removed]",
      "text/plain": [
       "<Figure size 576x432 with 1 Axes>"
      ]
     },
     "metadata": {},
     "output_type": "display_data"
    }
   ],
   "source": [
    "reta(df[\"2008_industria(%PIB)\"], df[\"2008_IDH\"], \"industria(%PIB)\", \"IDH\", \"IDH por industria\")"
   ]
  },
  {
   "cell_type": "markdown",
   "metadata": {},
   "source": [
    "### concluimos que: "
   ]
  },
  {
   "cell_type": "markdown",
   "metadata": {},
   "source": [
    "#### A suposição inicial estava errada, a participação da industria no PIB não tem relação com o IDH do país."
   ]
  },
  {
   "cell_type": "code",
   "execution_count": 66,
   "metadata": {
    "scrolled": false
   },
   "outputs": [
    {
     "data": {
      "image/png": "[encoded data removed]",
      "text/plain": [
       "<Figure size 576x432 with 1 Axes>"
      ]
     },
     "metadata": {},
     "output_type": "display_data"
    }
   ],
   "source": [
    "reta(df[\"2008_agricultura(%PIB)\"], df[\"2008_IDH\"], \"agricultura (% do PIB)\", \"IDH\", \"IDH por agricultura\")"
   ]
  },
  {
   "cell_type": "markdown",
   "metadata": {},
   "source": [
    "### concluimos que:"
   ]
  },
  {
   "cell_type": "markdown",
   "metadata": {},
   "source": [
    "#### A expectativa inicial estava correta, países com maior IDH tendem a ter setor agrícola com menor participação no PIB"
   ]
  },
  {
   "cell_type": "markdown",
   "metadata": {},
   "source": [
    " "
   ]
  },
  {
   "cell_type": "markdown",
   "metadata": {},
   "source": [
    "Para dar uma certeza matemática as conclusões, será utilizada a correlação de Pearson"
   ]
  },
  {
   "cell_type": "code",
   "execution_count": 67,
   "metadata": {},
   "outputs": [
    {
     "data": {
      "text/html": [
       "<div>\n",
       "<style scoped>\n",
       "    .dataframe tbody tr th:only-of-type {\n",
       "        vertical-align: middle;\n",
       "    }\n",
       "\n",
       "    .dataframe tbody tr th {\n",
       "        vertical-align: top;\n",
       "    }\n",
       "\n",
       "    .dataframe thead th {\n",
       "        text-align: right;\n",
       "    }\n",
       "</style>\n",
       "<table border=\"1\" class=\"dataframe\">\n",
       "  <thead>\n",
       "    <tr style=\"text-align: right;\">\n",
       "      <th></th>\n",
       "      <th>2008_industria(%PIB)</th>\n",
       "      <th>2008_IDH</th>\n",
       "    </tr>\n",
       "  </thead>\n",
       "  <tbody>\n",
       "    <tr>\n",
       "      <th>2008_industria(%PIB)</th>\n",
       "      <td>1.000000</td>\n",
       "      <td>-0.004855</td>\n",
       "    </tr>\n",
       "    <tr>\n",
       "      <th>2008_IDH</th>\n",
       "      <td>-0.004855</td>\n",
       "      <td>1.000000</td>\n",
       "    </tr>\n",
       "  </tbody>\n",
       "</table>\n",
       "</div>"
      ],
      "text/plain": [
       "                      2008_industria(%PIB)  2008_IDH\n",
       "2008_industria(%PIB)              1.000000 -0.004855\n",
       "2008_IDH                         -0.004855  1.000000"
      ]
     },
     "execution_count": 67,
     "metadata": {},
     "output_type": "execute_result"
    }
   ],
   "source": [
    "# correlação de Pearson entre a industria e o IDH\n",
    "\n",
    "ind_idh = df.loc[:,[\"2008_industria(%PIB)\", \"2008_IDH\"]] \n",
    "ind_idh.corr()"
   ]
  },
  {
   "cell_type": "markdown",
   "metadata": {},
   "source": [
    "Podemos garantir que não há relação entre a industria e o IDH de um país pois o valor de sua correlação deu, aproximadamente, 0."
   ]
  },
  {
   "cell_type": "code",
   "execution_count": 60,
   "metadata": {},
   "outputs": [
    {
     "data": {
      "text/html": [
       "<div>\n",
       "<style scoped>\n",
       "    .dataframe tbody tr th:only-of-type {\n",
       "        vertical-align: middle;\n",
       "    }\n",
       "\n",
       "    .dataframe tbody tr th {\n",
       "        vertical-align: top;\n",
       "    }\n",
       "\n",
       "    .dataframe thead th {\n",
       "        text-align: right;\n",
       "    }\n",
       "</style>\n",
       "<table border=\"1\" class=\"dataframe\">\n",
       "  <thead>\n",
       "    <tr style=\"text-align: right;\">\n",
       "      <th></th>\n",
       "      <th>2008_agricultura(%PIB)</th>\n",
       "      <th>2008_IDH</th>\n",
       "    </tr>\n",
       "  </thead>\n",
       "  <tbody>\n",
       "    <tr>\n",
       "      <th>2008_agricultura(%PIB)</th>\n",
       "      <td>1.000000</td>\n",
       "      <td>-0.797394</td>\n",
       "    </tr>\n",
       "    <tr>\n",
       "      <th>2008_IDH</th>\n",
       "      <td>-0.797394</td>\n",
       "      <td>1.000000</td>\n",
       "    </tr>\n",
       "  </tbody>\n",
       "</table>\n",
       "</div>"
      ],
      "text/plain": [
       "                        2008_agricultura(%PIB)  2008_IDH\n",
       "2008_agricultura(%PIB)                1.000000 -0.797394\n",
       "2008_IDH                             -0.797394  1.000000"
      ]
     },
     "execution_count": 60,
     "metadata": {},
     "output_type": "execute_result"
    }
   ],
   "source": [
    "# correlação de Pearson entre a agricultura e o IDH\n",
    "\n",
    "agr_idh = df.loc[:,[\"2008_agricultura(%PIB)\", \"2008_IDH\"]] \n",
    "agr_idh.corr()"
   ]
  },
  {
   "cell_type": "markdown",
   "metadata": {},
   "source": [
    "Podemos garantir que há relação inversa entre agricultura e IDH, pois o valor é próximo de -1."
   ]
  }
 ],
 "metadata": {
  "kernelspec": {
   "display_name": "Python 3",
   "language": "python",
   "name": "python3"
  },
  "language_info": {
   "codemirror_mode": {
    "name": "ipython",
    "version": 3
   },
   "file_extension": ".py",
   "mimetype": "text/x-python",
   "name": "python",
   "nbconvert_exporter": "python",
   "pygments_lexer": "ipython3",
   "version": "3.6.5"
  }
 },
 "nbformat": 4,
 "nbformat_minor": 2
}
